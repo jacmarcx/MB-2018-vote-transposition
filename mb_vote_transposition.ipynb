{
 "cells": [
  {
   "cell_type": "markdown",
   "metadata": {},
   "source": [
    "## Note\n",
    "> This code will not run as is, as the entire analysis requires certain actions that are outisde of a Python environment. It does however provide a very thorough framework for the data analysis process used for a vote tranposition process."
   ]
  },
  {
   "cell_type": "code",
   "execution_count": 22,
   "metadata": {},
   "outputs": [],
   "source": [
    "import pandas as pd\n",
    "import geopandas as gpd\n",
    "import numpy as np\n",
    "import googlemaps\n",
    "from shapely.geometry import Point\n",
    "import matplotlib.pyplot as plt\n",
    "\n",
    "#connect to Postgis...\n",
    "import psycopg2\n",
    "con = psycopg2.connect(dbname='boundary_redistribution', user='postgres', password='password')\n",
    "\n",
    "\n",
    "import os\n",
    "%matplotlib inline\n",
    "from PIL import Image\n",
    "import glob\n",
    "from IPython.display import clear_output\n",
    "\n",
    "pd.set_option('display.max_rows', 2000)\n",
    "pd.set_option('display.max_columns', 900)\n",
    "\n",
    "#prevent scientific notation on float data types\n",
    "pd.options.display.float_format = '{:,.3f}'.format"
   ]
  },
  {
   "cell_type": "markdown",
   "metadata": {},
   "source": [
    "## Explanation of the analysis\n",
    "The objective of the analysis is to determine which party benefits most from the new electoral boundaries that were redrawn for 2018 going forward to 2028.<br>\n",
    "\n",
    "In order to do so we ask the hypothetical question: If the 2018 boundaries were used in the 2016 and 2011 elections, how would the seat count in the Legislature change?<br>"
   ]
  },
  {
   "cell_type": "markdown",
   "metadata": {},
   "source": [
    "## Load necessary files...\n",
    "> All files in ESPG: 26914"
   ]
  },
  {
   "cell_type": "code",
   "execution_count": 23,
   "metadata": {},
   "outputs": [
    {
     "name": "stdout",
     "output_type": "stream",
     "text": [
      "Wall time: 13.7 s\n"
     ]
    }
   ],
   "source": [
    "%%time\n",
    "#electoral districts\n",
    "ed2008 = gpd.read_file(r'.\\boundary_commission_mb\\ed_geo_2011_2016\\current_ed_2008.shp')\n",
    "ed2018 = gpd.read_file(r'.\\ed_geo_2011_2016\\ed2018_official.shp')\n",
    "\n",
    "#voting areas\n",
    "va2011 = gpd.read_file(r'.\\boundary_commission_mb\\va_2011_2016\\va_geo_2011.shp')\n",
    "va2016 = gpd.read_file(r'.\\boundary_commission_mb\\va_2011_2016\\va_geo_2016.shp')\n",
    "\n",
    "#voting area results (also contains advanced and non-va specific results)\n",
    "results = gpd.read_file(r'.\\boundary_commission_mb\\va_2011_2016\\va_results_11_16_fix2.csv')\n",
    "\n",
    "#historical results by electoral division\n",
    "hist_results = gpd.read_file(r'.\\boundary_commission_mb\\ed_geo_2011_2016\\mb_election_historical_summaries_by_ed.csv')\n",
    "\n",
    "#Winnipeg and Manitoba properties....\n",
    "wpg_parcels = gpd.read_file(r'.\\boundary_commission_mb\\properties_dwellings\\wpg_roll.shp')\n",
    "mb_parcels = gpd.read_file(r'.\\boundary_commission_mb\\properties_dwellings\\mb_roll.shp')\n",
    "\n",
    "#this is the comibnation of both above layers\n",
    "master_prop = gpd.read_file(r'.\\boundary_commission_mb\\analysis_output\\master_res_props.shp')"
   ]
  },
  {
   "cell_type": "markdown",
   "metadata": {},
   "source": [
    "## Prepare results data\n",
    "> (One row per va with party results across columns)"
   ]
  },
  {
   "cell_type": "code",
   "execution_count": 24,
   "metadata": {
    "scrolled": false
   },
   "outputs": [],
   "source": [
    "# VA results for ED splitting\n",
    "results_box = results.loc[(results['va_num'] != 99) & (results['votes'].notna())]\n",
    "results_box = results_box.pivot_table(index=['year','ed_num','va_num','ed_name'], columns='party', values='votes', aggfunc='sum')\n",
    "results_box = results_box.reset_index()\n",
    "results_box = results_box.sort_values(by=['year','ed_name','va_num'])\n",
    "results_box['uidva'] = (results_box['year'].astype('str') + '-' + results_box['ed_num'].astype('str') + '-' + results_box['va_num'].astype('str'))"
   ]
  },
  {
   "cell_type": "code",
   "execution_count": 25,
   "metadata": {},
   "outputs": [],
   "source": [
    "# VA results for ED splitting\n",
    "results_nobox = results.loc[(results['va_num'] == 99) & (results['votes'].notna())]\n",
    "results_nobox = results_nobox.pivot_table(index=['year','ed_num','va_num','ed_name'], columns='party', values='votes', aggfunc='sum')\n",
    "results_nobox = results_nobox.reset_index()\n",
    "results_nobox = results_nobox.sort_values(by=['year','ed_name','va_num'])\n",
    "results_nobox['uided'] = (results_nobox['year'].astype('str') + '-' + results_nobox['ed_num'].astype('str'))"
   ]
  },
  {
   "cell_type": "markdown",
   "metadata": {},
   "source": [
    "## Add required ID-type fields to map files for merging"
   ]
  },
  {
   "cell_type": "code",
   "execution_count": 26,
   "metadata": {},
   "outputs": [],
   "source": [
    "# create new UIDva field for each VA map file\n",
    "va2011['uidva'] = (va2011['year'].astype('str') + '-' + va2011['ed_num'].astype('str') + '-' + va2011['va_num'].astype('str'))\n",
    "va2016['uidva'] = (va2016['year'].astype('str') + '-' + va2016['ed_num'].astype('str') + '-' + va2016['va_num'].astype('str'))\n",
    "\n",
    "# create new UIDed field for each VA map file\n",
    "va2011['uided'] = (va2011['year'].astype('str') + '-' + va2011['ed_num'].astype('str'))\n",
    "va2016['uided'] = (va2016['year'].astype('str') + '-' + va2016['ed_num'].astype('str'))\n",
    "\n",
    "# create new UID field for each ED map file\n",
    "# because the ed2008 is used by 2011 and 2016 elections, must make two unique ID columns for joins\n",
    "ed2008['uided11'] = ('2011' + '-' + ed2008['ed_num'].astype('str'))\n",
    "ed2008['uided16'] = ('2016' + '-' + ed2008['ed_num'].astype('str'))\n",
    "\n",
    "ed2018['uided11'] = ('2011' + '-' + ed2018['ed_num'].astype('str'))\n",
    "ed2018['uided16'] = ('2016' + '-' + ed2018['ed_num'].astype('str'))"
   ]
  },
  {
   "cell_type": "markdown",
   "metadata": {},
   "source": [
    "## Add original area fields to map files<br>\n",
    "> VA files returns area for voting areas<br>\n",
    "> ED files returns area for electorial division"
   ]
  },
  {
   "cell_type": "code",
   "execution_count": 27,
   "metadata": {},
   "outputs": [],
   "source": [
    "va2011['area_orig'] = va2011['geometry'].area/10**6\n",
    "va2016['area_orig'] = va2016['geometry'].area/10**6\n",
    "\n",
    "ed2008['area_orig'] = ed2008['geometry'].area/10**6\n",
    "ed2018['area_orig'] = ed2018['geometry'].area/10**6"
   ]
  },
  {
   "cell_type": "markdown",
   "metadata": {},
   "source": [
    "## Merge results data with VA maps (box votes) and ED maps (no box votes)"
   ]
  },
  {
   "cell_type": "code",
   "execution_count": 28,
   "metadata": {},
   "outputs": [],
   "source": [
    "# BOX votes: merge va2016 map with 2016 results using UIDva\n",
    "va2016box = pd.merge(va2016, results_box, how='inner', on='uidva')\n",
    "va2016box = va2016box.drop(columns=['id','year_y','va_num_y','ed_name_y', 'ed_num_y'])\n",
    "\n",
    "# BOX votes: merge va2011 map with 2011 results using UIDva\n",
    "va2011box = pd.merge(va2011, results_box, how='inner', on='uidva')\n",
    "va2011box = va2011box.drop(columns=['id','year_y','va_num_y','ed_name_y','ed_num_y'])\n",
    "\n",
    "# NO BOX votes: merge ed2008 map with 2016 results using UIDed\n",
    "ed2008r16 = pd.merge(ed2008, results_nobox, how='inner', left_on='uided16', right_on='uided' )\n",
    "ed2008r16 = ed2008r16.drop(columns=['year_y','va_num','ed_name_y', 'ed_num_y'])\n",
    "\n",
    "# NO BOX votes: merge ed2008 map with 2011 results using UIDed\n",
    "ed2008r11 = pd.merge(ed2008, results_nobox, how='inner', left_on='uided11', right_on='uided' )\n",
    "ed2008r11 = ed2008r11.drop(columns=['year_y','va_num','ed_name_y', 'ed_num_y'])"
   ]
  },
  {
   "cell_type": "markdown",
   "metadata": {},
   "source": [
    "## Prepare the master property layer for intersection operation\n",
    "> - The file in its original format is too large for the processing power of the computer and so it needs to first be buffered and then dissolved in to a single multi-polygon.<br>\n",
    "> - Execution time is long, so must save to local file before moving on."
   ]
  },
  {
   "cell_type": "code",
   "execution_count": 29,
   "metadata": {},
   "outputs": [
    {
     "name": "stdout",
     "output_type": "stream",
     "text": [
      "Wall time: 22.4 s\n"
     ]
    }
   ],
   "source": [
    "%%time\n",
    "# execution time avg: 21 secs\n",
    "buf = master_prop['geometry'].buffer(50)"
   ]
  },
  {
   "cell_type": "code",
   "execution_count": 30,
   "metadata": {},
   "outputs": [
    {
     "name": "stdout",
     "output_type": "stream",
     "text": [
      "Wall time: 24min 11s\n"
     ]
    }
   ],
   "source": [
    "%%time\n",
    "# execution time avg: 26 mins\n",
    "crs = {'init': 'epsg:26914'}\n",
    "buff = gpd.GeoDataFrame(geometry=[buf.unary_union],crs=crs)"
   ]
  },
  {
   "cell_type": "code",
   "execution_count": 31,
   "metadata": {},
   "outputs": [
    {
     "name": "stdout",
     "output_type": "stream",
     "text": [
      "Wall time: 1min\n"
     ]
    }
   ],
   "source": [
    "%%time\n",
    "# save dissolved file\n",
    "buff.to_file(r'.\\boundary_commission_mb\\analysis_output\\props_diss.shp',driver='ESRI Shapefile')"
   ]
  },
  {
   "cell_type": "code",
   "execution_count": 32,
   "metadata": {},
   "outputs": [],
   "source": [
    "# This is the final property file for intersections\n",
    "buff = gpd.read_file(r'.\\boundary_commission_mb\\analysis_output\\props_diss.shp')"
   ]
  },
  {
   "cell_type": "markdown",
   "metadata": {},
   "source": [
    "## Output new spatial layers using the intersection of VA and ED maps with the Property map<br>\n",
    "The logic behind this is that surface area in the province where no voters exist (i.e. where there are no dwellings) are to be excluded from the reassignment of votes math. The voting area that encompasses Churchill for example, the entire voting population lives in about 1% of the North-East corner of the territory, and so assigning votes the neighbouring electoral division could yield incorrect results.<br>"
   ]
  },
  {
   "cell_type": "markdown",
   "metadata": {},
   "source": [
    "#### 2016 elections....."
   ]
  },
  {
   "cell_type": "code",
   "execution_count": 33,
   "metadata": {},
   "outputs": [
    {
     "name": "stdout",
     "output_type": "stream",
     "text": [
      "Wall time: 7min 51s\n"
     ]
    }
   ],
   "source": [
    "%%time\n",
    "# Execution time approx: 9mins\n",
    "# Intersect va2016box with dissolved master parcel map\n",
    "va2016box_prop = gpd.overlay(va2016box, buff, how='intersection')"
   ]
  },
  {
   "cell_type": "code",
   "execution_count": 34,
   "metadata": {},
   "outputs": [],
   "source": [
    "# Execution time approx: 9mins\n",
    "# Intersect ed2008r16 with dissolved master parcel map\n",
    "ed2008r16_prop = gpd.overlay(ed2008r16, buff, how='intersection')"
   ]
  },
  {
   "cell_type": "code",
   "execution_count": 35,
   "metadata": {},
   "outputs": [],
   "source": [
    "# add new area field now that non-resident footprints are eliminated\n",
    "# this will be the basis of the vote distribution calculation afterwards for VAs\n",
    "va2016box_prop['area_prop'] = va2016box_prop['geometry'].area/10**6"
   ]
  },
  {
   "cell_type": "code",
   "execution_count": 36,
   "metadata": {},
   "outputs": [],
   "source": [
    "# add new area field now that non-resident footprints are eliminated\n",
    "# this will be the basis of the vote distribution calculation afterwards for EDs\n",
    "ed2008r16_prop['area_prop'] = ed2008r16_prop['geometry'].area/10**6"
   ]
  },
  {
   "cell_type": "code",
   "execution_count": 37,
   "metadata": {},
   "outputs": [
    {
     "name": "stdout",
     "output_type": "stream",
     "text": [
      "Wall time: 7.95 s\n"
     ]
    }
   ],
   "source": [
    "%%time\n",
    "# save va2016box_prop to file\n",
    "va2016box_prop.to_file(r'.\\boundary_commission_mb\\analysis_output\\va2016box_prop.shp',driver='ESRI Shapefile')"
   ]
  },
  {
   "cell_type": "code",
   "execution_count": 38,
   "metadata": {},
   "outputs": [
    {
     "name": "stdout",
     "output_type": "stream",
     "text": [
      "Wall time: 9.22 s\n"
     ]
    }
   ],
   "source": [
    "%%time\n",
    "# save ed2008r16_prop to file\n",
    "ed2008r16_prop.to_file(r'.\\boundary_commission_mb\\analysis_output\\ed2008r16_prop.shp',driver='ESRI Shapefile')"
   ]
  },
  {
   "cell_type": "code",
   "execution_count": 39,
   "metadata": {},
   "outputs": [],
   "source": [
    "#### 2011 elections...."
   ]
  },
  {
   "cell_type": "code",
   "execution_count": 40,
   "metadata": {},
   "outputs": [
    {
     "name": "stdout",
     "output_type": "stream",
     "text": [
      "Wall time: 7min 59s\n"
     ]
    }
   ],
   "source": [
    "%%time\n",
    "# Execution time approx: 9mins\n",
    "# Intersect va2011box with dissolved master parcel map\n",
    "va2011box_prop = gpd.overlay(va2011box, buff, how='intersection')"
   ]
  },
  {
   "cell_type": "code",
   "execution_count": 41,
   "metadata": {},
   "outputs": [],
   "source": [
    "# Execution time approx: 9mins\n",
    "# Intersect ed2008r11 with dissolved master parcel map\n",
    "ed2008r11_prop = gpd.overlay(ed2008r11, buff, how='intersection')"
   ]
  },
  {
   "cell_type": "code",
   "execution_count": 42,
   "metadata": {},
   "outputs": [],
   "source": [
    "# add new area field now that non-resident footprints are eliminated\n",
    "# this will be the basis of the vote distribution calculation afterwards for VAs\n",
    "va2011box_prop['area_prop'] = va2011box_prop['geometry'].area/10**6"
   ]
  },
  {
   "cell_type": "code",
   "execution_count": 43,
   "metadata": {},
   "outputs": [],
   "source": [
    "# add new area field now that non-resident footprints are eliminated\n",
    "# this will be the basis of the vote distribution calculation afterwards for EDs\n",
    "ed2008r11_prop['area_prop'] = ed2008r11_prop['geometry'].area/10**6"
   ]
  },
  {
   "cell_type": "code",
   "execution_count": 44,
   "metadata": {},
   "outputs": [
    {
     "name": "stdout",
     "output_type": "stream",
     "text": [
      "Wall time: 8.17 s\n"
     ]
    }
   ],
   "source": [
    "%%time\n",
    "# save va2011box_prop to file\n",
    "va2011box_prop.to_file(r'.\\boundary_commission_mb\\analysis_output\\va2011box_prop.shp',driver='ESRI Shapefile')"
   ]
  },
  {
   "cell_type": "code",
   "execution_count": 45,
   "metadata": {},
   "outputs": [
    {
     "name": "stdout",
     "output_type": "stream",
     "text": [
      "Wall time: 9.48 s\n"
     ]
    }
   ],
   "source": [
    "%%time\n",
    "# save ed2008r11_prop to file\n",
    "ed2008r11_prop.to_file(r'.\\boundary_commission_mb\\analysis_output\\ed2008r11_prop.shp',driver='ESRI Shapefile')"
   ]
  },
  {
   "cell_type": "markdown",
   "metadata": {},
   "source": [
    "## Intersection between VA- and ED- resident layers with ED2018 layer"
   ]
  },
  {
   "cell_type": "markdown",
   "metadata": {},
   "source": [
    "#### 2016 elections...."
   ]
  },
  {
   "cell_type": "code",
   "execution_count": 46,
   "metadata": {},
   "outputs": [
    {
     "name": "stdout",
     "output_type": "stream",
     "text": [
      "Wall time: 1.64 s\n"
     ]
    }
   ],
   "source": [
    "%%time\n",
    "# execution time approx: \n",
    "# read in final VA and ED resident layers\n",
    "va2016box_prop = gpd.read_file(r'.\\boundary_commission_mb\\analysis_output\\va2016box_prop.shp')\n",
    "ed2008r16_prop = gpd.read_file(r'.\\boundary_commission_mb\\analysis_output\\ed2008r16_prop.shp')"
   ]
  },
  {
   "cell_type": "code",
   "execution_count": 47,
   "metadata": {},
   "outputs": [
    {
     "name": "stdout",
     "output_type": "stream",
     "text": [
      "Wall time: 2min 10s\n"
     ]
    }
   ],
   "source": [
    "%%time\n",
    "# execution time approx: 6:20 mins\n",
    "# Intersect va2016box_prop with 2018 boundaries\n",
    "va2016box_trans = gpd.overlay(va2016box_prop, ed2018, how='intersection')"
   ]
  },
  {
   "cell_type": "code",
   "execution_count": 48,
   "metadata": {},
   "outputs": [
    {
     "name": "stdout",
     "output_type": "stream",
     "text": [
      "Wall time: 1min 22s\n"
     ]
    }
   ],
   "source": [
    "%%time\n",
    "# execution time approx: 3:40 mins\n",
    "# Intersect ed2008r16_prop with 2018 boundaries\n",
    "ed2008r16_trans = gpd.overlay(ed2008r16_prop, ed2018, how='intersection')"
   ]
  },
  {
   "cell_type": "markdown",
   "metadata": {},
   "source": [
    "#### 2011 elections...."
   ]
  },
  {
   "cell_type": "code",
   "execution_count": 49,
   "metadata": {},
   "outputs": [],
   "source": [
    "# read in final VA and ED resident layers\n",
    "va2011box_prop = gpd.read_file(r'.\\boundary_commission_mb\\analysis_output\\va2011box_prop.shp')\n",
    "ed2008r11_prop = gpd.read_file(r'.\\boundary_commission_mb\\analysis_output\\ed2008r11_prop.shp')"
   ]
  },
  {
   "cell_type": "code",
   "execution_count": 50,
   "metadata": {},
   "outputs": [
    {
     "name": "stdout",
     "output_type": "stream",
     "text": [
      "Wall time: 37 s\n"
     ]
    }
   ],
   "source": [
    "%%time\n",
    "# execution time approx: 1:40 mins\n",
    "# Intersect va2011box_prop with 2018 boundaries\n",
    "va2011box_trans = gpd.overlay(va2011box_prop, ed2018, how='intersection')"
   ]
  },
  {
   "cell_type": "code",
   "execution_count": 51,
   "metadata": {},
   "outputs": [
    {
     "name": "stdout",
     "output_type": "stream",
     "text": [
      "Wall time: 1min 21s\n"
     ]
    }
   ],
   "source": [
    "%%time\n",
    "# execution time approx: 1:15 mins\n",
    "# Intersect ed2008r11_prop with 2018 boundaries\n",
    "ed2008r11_trans = gpd.overlay(ed2008r11_prop, ed2018, how='intersection')"
   ]
  },
  {
   "cell_type": "markdown",
   "metadata": {},
   "source": [
    "## Create new areas for new pieces and assign weighting for vote distribution"
   ]
  },
  {
   "cell_type": "markdown",
   "metadata": {},
   "source": [
    "#### 2016 elections"
   ]
  },
  {
   "cell_type": "code",
   "execution_count": 52,
   "metadata": {},
   "outputs": [],
   "source": [
    "# add new areas after cookie-cutter\n",
    "va2016box_trans['area_new'] = va2016box_trans['geometry'].area/10**6\n",
    "ed2008r16_trans['area_new'] = ed2008r16_trans['geometry'].area/10**6"
   ]
  },
  {
   "cell_type": "code",
   "execution_count": 53,
   "metadata": {
    "scrolled": false
   },
   "outputs": [],
   "source": [
    "va2016box_trans['weight'] = va2016box_trans['area_new']/va2016box_trans['area_prop']\n",
    "ed2008r16_trans['weight'] = ed2008r16_trans['area_new']/ed2008r16_trans['area_prop']"
   ]
  },
  {
   "cell_type": "markdown",
   "metadata": {},
   "source": [
    "#### 2011 elections"
   ]
  },
  {
   "cell_type": "code",
   "execution_count": 54,
   "metadata": {},
   "outputs": [],
   "source": [
    "# add new areas after cookie-cutter\n",
    "va2011box_trans['area_new'] = va2011box_trans['geometry'].area/10**6\n",
    "ed2008r11_trans['area_new'] = ed2008r11_trans['geometry'].area/10**6"
   ]
  },
  {
   "cell_type": "code",
   "execution_count": 55,
   "metadata": {
    "scrolled": false
   },
   "outputs": [],
   "source": [
    "va2011box_trans['weight'] = va2011box_trans['area_new']/va2011box_trans['area_prop']\n",
    "ed2008r11_trans['weight'] = ed2008r11_trans['area_new']/ed2008r11_trans['area_prop']"
   ]
  },
  {
   "cell_type": "markdown",
   "metadata": {},
   "source": [
    "## Resort rows and rename certain columns"
   ]
  },
  {
   "cell_type": "markdown",
   "metadata": {},
   "source": [
    "#### 2016 elections...."
   ]
  },
  {
   "cell_type": "code",
   "execution_count": 56,
   "metadata": {},
   "outputs": [],
   "source": [
    "va2016final = va2016box_trans.sort_values(by=['year_x','ed_name_x','va_num_x'])\n",
    "va2016final = va2016final.rename(columns={'ed_name_x':'ed_name_orig', 'area_orig_':'area_va_orig','area_ori_1':'area_va_orig', 'ed_name':'ed_name_new'})"
   ]
  },
  {
   "cell_type": "code",
   "execution_count": 57,
   "metadata": {},
   "outputs": [],
   "source": [
    "va2016edfinal = ed2008r16_trans.sort_values(by=['year_x','ed_name_x'])\n",
    "va2016edfinal = va2016edfinal.rename(columns={'ed_name_x':'ed_name_orig','area_orig_1':'area_ed_orig', 'ed_name':'ed_name_new'})"
   ]
  },
  {
   "cell_type": "markdown",
   "metadata": {},
   "source": [
    "#### 2011 elections...."
   ]
  },
  {
   "cell_type": "code",
   "execution_count": 58,
   "metadata": {},
   "outputs": [],
   "source": [
    "va2011final = va2011box_trans.sort_values(by=['year_x','ed_name_x','va_num_x'])\n",
    "va2011final = va2011final.rename(columns={'ed_name_x':'ed_name_orig', 'area_orig_':'area_va_orig','area_ori_1':'area_va_orig', 'ed_name':'ed_name_new'})"
   ]
  },
  {
   "cell_type": "code",
   "execution_count": 59,
   "metadata": {},
   "outputs": [],
   "source": [
    "va2011edfinal = ed2008r11_trans.sort_values(by=['year_x','ed_name_x'])\n",
    "va2011edfinal = va2011edfinal.rename(columns={'ed_name_x':'ed_name_orig','area_orig_1':'area_ed_orig', 'ed_name':'ed_name_new'})"
   ]
  },
  {
   "cell_type": "markdown",
   "metadata": {},
   "source": [
    "## Determine vote proportion to assign to intersection VA chunks"
   ]
  },
  {
   "cell_type": "markdown",
   "metadata": {},
   "source": [
    "#### 2016 elections...."
   ]
  },
  {
   "cell_type": "code",
   "execution_count": 60,
   "metadata": {},
   "outputs": [],
   "source": [
    "#weight votes for VA2016\n",
    "va2016final['cpc-m_new'] = va2016final['cpc-m']*va2016final['weight']\n",
    "va2016final['gpm_new'] = va2016final['gpm']*va2016final['weight']\n",
    "va2016final['ind_new'] = va2016final['ind']*va2016final['weight']\n",
    "va2016final['lib_new'] = va2016final['lib']*va2016final['weight']\n",
    "va2016final['mp_new'] = va2016final['mp']*va2016final['weight']\n",
    "va2016final['ndp_new'] = va2016final['ndp']*va2016final['weight']\n",
    "va2016final['pc_new'] = va2016final['pc']*va2016final['weight']"
   ]
  },
  {
   "cell_type": "code",
   "execution_count": 61,
   "metadata": {},
   "outputs": [],
   "source": [
    "#weight votes for ED2016\n",
    "va2016edfinal['cpc-m_new'] = va2016edfinal['cpc-m']*va2016edfinal['weight']\n",
    "va2016edfinal['gpm_new'] = va2016edfinal['gpm']*va2016edfinal['weight']\n",
    "va2016edfinal['ind_new'] = va2016edfinal['ind']*va2016edfinal['weight']\n",
    "va2016edfinal['lib_new'] = va2016edfinal['lib']*va2016edfinal['weight']\n",
    "va2016edfinal['mp_new'] = va2016edfinal['mp']*va2016edfinal['weight']\n",
    "va2016edfinal['ndp_new'] = va2016edfinal['ndp']*va2016edfinal['weight']\n",
    "va2016edfinal['pc_new'] = va2016edfinal['pc']*va2016edfinal['weight']"
   ]
  },
  {
   "cell_type": "markdown",
   "metadata": {},
   "source": [
    "#### 2011 elections...."
   ]
  },
  {
   "cell_type": "code",
   "execution_count": 62,
   "metadata": {},
   "outputs": [],
   "source": [
    "#weight votes for VA2011\n",
    "va2011final['cpc-m_new'] = va2011final['cpc-m']*va2011final['weight']\n",
    "va2011final['gpm_new'] = va2011final['gpm']*va2011final['weight']\n",
    "va2011final['ind_new'] = va2011final['ind']*va2011final['weight']\n",
    "va2011final['lib_new'] = va2011final['lib']*va2011final['weight']\n",
    "va2011final['mp_new'] = va2011final['mp']*va2011final['weight']\n",
    "va2011final['ndp_new'] = va2011final['ndp']*va2011final['weight']\n",
    "va2011final['pc_new'] = va2011final['pc']*va2011final['weight']"
   ]
  },
  {
   "cell_type": "code",
   "execution_count": 63,
   "metadata": {},
   "outputs": [],
   "source": [
    "#weight votes for ED2016\n",
    "va2011edfinal['cpc-m_new'] = va2011edfinal['cpc-m']*va2011edfinal['weight']\n",
    "va2011edfinal['gpm_new'] = va2011edfinal['gpm']*va2011edfinal['weight']\n",
    "va2011edfinal['ind_new'] = va2011edfinal['ind']*va2011edfinal['weight']\n",
    "va2011edfinal['lib_new'] = va2011edfinal['lib']*va2011edfinal['weight']\n",
    "va2011edfinal['mp_new'] = va2011edfinal['mp']*va2011edfinal['weight']\n",
    "va2011edfinal['ndp_new'] = va2011edfinal['ndp']*va2011edfinal['weight']\n",
    "va2011edfinal['pc_new'] = va2011edfinal['pc']*va2011edfinal['weight']"
   ]
  },
  {
   "cell_type": "markdown",
   "metadata": {},
   "source": [
    "## Narrow down to finals columns for groupby newly assigned ED"
   ]
  },
  {
   "cell_type": "markdown",
   "metadata": {},
   "source": [
    "#### 2016 elections...."
   ]
  },
  {
   "cell_type": "code",
   "execution_count": 64,
   "metadata": {},
   "outputs": [],
   "source": [
    "va2016final__ = va2016final.iloc[:,[20,28,29,30,31,32,33,34]]"
   ]
  },
  {
   "cell_type": "code",
   "execution_count": 65,
   "metadata": {},
   "outputs": [],
   "source": [
    "va2016edfinal__ = va2016edfinal.iloc[:,[21,29,30,31,32,33,34,35]]"
   ]
  },
  {
   "cell_type": "code",
   "execution_count": 66,
   "metadata": {},
   "outputs": [],
   "source": [
    "va2016final__grouped = va2016final__.groupby('ed_name_new').sum()"
   ]
  },
  {
   "cell_type": "code",
   "execution_count": 67,
   "metadata": {},
   "outputs": [],
   "source": [
    "va2016edfinal__grouped = va2016edfinal__.groupby('ed_name_new').sum()"
   ]
  },
  {
   "cell_type": "markdown",
   "metadata": {},
   "source": [
    "#### 2011 elections...."
   ]
  },
  {
   "cell_type": "code",
   "execution_count": 68,
   "metadata": {},
   "outputs": [],
   "source": [
    "va2011final__ = va2011final.iloc[:,[20,28,29,30,31,32,33,34]]"
   ]
  },
  {
   "cell_type": "code",
   "execution_count": 69,
   "metadata": {},
   "outputs": [],
   "source": [
    "va2011edfinal__ = va2011edfinal.iloc[:,[21,29,30,31,32,33,34,35]]"
   ]
  },
  {
   "cell_type": "code",
   "execution_count": 70,
   "metadata": {},
   "outputs": [],
   "source": [
    "va2011final__grouped = va2011final__.groupby('ed_name_new').sum()"
   ]
  },
  {
   "cell_type": "code",
   "execution_count": 71,
   "metadata": {},
   "outputs": [],
   "source": [
    "va2011edfinal__grouped = va2011edfinal__.groupby('ed_name_new').sum()"
   ]
  },
  {
   "cell_type": "markdown",
   "metadata": {},
   "source": [
    "## Sum both group by outcomes for VA and ED"
   ]
  },
  {
   "cell_type": "markdown",
   "metadata": {},
   "source": [
    "#### 2016 elections...."
   ]
  },
  {
   "cell_type": "code",
   "execution_count": 72,
   "metadata": {},
   "outputs": [],
   "source": [
    "hypothetical2016_results = va2016final__grouped.add(va2016edfinal__grouped)"
   ]
  },
  {
   "cell_type": "markdown",
   "metadata": {},
   "source": [
    "#### 2011 elections...."
   ]
  },
  {
   "cell_type": "code",
   "execution_count": 73,
   "metadata": {},
   "outputs": [],
   "source": [
    "hypothetical2011_results = va2011final__grouped.add(va2011edfinal__grouped)"
   ]
  },
  {
   "cell_type": "markdown",
   "metadata": {},
   "source": [
    "## Get max of columns and final seat count"
   ]
  },
  {
   "cell_type": "markdown",
   "metadata": {},
   "source": [
    "#### 2016 elections...."
   ]
  },
  {
   "cell_type": "code",
   "execution_count": 74,
   "metadata": {},
   "outputs": [],
   "source": [
    "hypothetical2016_outcomes = hypothetical2016_results.idxmax(axis=1)"
   ]
  },
  {
   "cell_type": "code",
   "execution_count": 75,
   "metadata": {
    "scrolled": true
   },
   "outputs": [
    {
     "data": {
      "text/plain": [
       "pc_new     41\n",
       "ndp_new    13\n",
       "lib_new     3\n",
       "dtype: int64"
      ]
     },
     "execution_count": 75,
     "metadata": {},
     "output_type": "execute_result"
    }
   ],
   "source": [
    "hypothetical2016_outcomes.value_counts()"
   ]
  },
  {
   "cell_type": "markdown",
   "metadata": {},
   "source": [
    "## Conclusion: What are the hypothetical race outcomes using 2016 results?"
   ]
  },
  {
   "cell_type": "code",
   "execution_count": 80,
   "metadata": {
    "scrolled": false
   },
   "outputs": [
    {
     "data": {
      "text/html": [
       "<div>\n",
       "<style scoped>\n",
       "    .dataframe tbody tr th:only-of-type {\n",
       "        vertical-align: middle;\n",
       "    }\n",
       "\n",
       "    .dataframe tbody tr th {\n",
       "        vertical-align: top;\n",
       "    }\n",
       "\n",
       "    .dataframe thead th {\n",
       "        text-align: right;\n",
       "    }\n",
       "</style>\n",
       "<table border=\"1\" class=\"dataframe\">\n",
       "  <thead>\n",
       "    <tr style=\"text-align: right;\">\n",
       "      <th></th>\n",
       "      <th>cpc-m_new</th>\n",
       "      <th>gpm_new</th>\n",
       "      <th>ind_new</th>\n",
       "      <th>lib_new</th>\n",
       "      <th>mp_new</th>\n",
       "      <th>ndp_new</th>\n",
       "      <th>pc_new</th>\n",
       "    </tr>\n",
       "    <tr>\n",
       "      <th>ed_name_new</th>\n",
       "      <th></th>\n",
       "      <th></th>\n",
       "      <th></th>\n",
       "      <th></th>\n",
       "      <th></th>\n",
       "      <th></th>\n",
       "      <th></th>\n",
       "    </tr>\n",
       "  </thead>\n",
       "  <tbody>\n",
       "    <tr>\n",
       "      <th>Agassiz</th>\n",
       "      <td>0.000</td>\n",
       "      <td>381.208</td>\n",
       "      <td>839.874</td>\n",
       "      <td>67.031</td>\n",
       "      <td>19.504</td>\n",
       "      <td>453.474</td>\n",
       "      <td>5,368.396</td>\n",
       "    </tr>\n",
       "    <tr>\n",
       "      <th>Assiniboia</th>\n",
       "      <td>0.000</td>\n",
       "      <td>669.706</td>\n",
       "      <td>0.000</td>\n",
       "      <td>1,697.377</td>\n",
       "      <td>0.000</td>\n",
       "      <td>2,578.034</td>\n",
       "      <td>4,065.074</td>\n",
       "    </tr>\n",
       "    <tr>\n",
       "      <th>Borderland</th>\n",
       "      <td>0.000</td>\n",
       "      <td>152.456</td>\n",
       "      <td>0.000</td>\n",
       "      <td>1,144.181</td>\n",
       "      <td>0.000</td>\n",
       "      <td>289.587</td>\n",
       "      <td>6,077.819</td>\n",
       "    </tr>\n",
       "    <tr>\n",
       "      <th>Brandon East</th>\n",
       "      <td>0.000</td>\n",
       "      <td>0.000</td>\n",
       "      <td>0.000</td>\n",
       "      <td>765.497</td>\n",
       "      <td>0.000</td>\n",
       "      <td>2,302.017</td>\n",
       "      <td>3,259.293</td>\n",
       "    </tr>\n",
       "    <tr>\n",
       "      <th>Brandon West</th>\n",
       "      <td>0.000</td>\n",
       "      <td>0.000</td>\n",
       "      <td>0.000</td>\n",
       "      <td>516.871</td>\n",
       "      <td>0.126</td>\n",
       "      <td>1,625.396</td>\n",
       "      <td>4,586.527</td>\n",
       "    </tr>\n",
       "    <tr>\n",
       "      <th>Burrows</th>\n",
       "      <td>25.714</td>\n",
       "      <td>253.029</td>\n",
       "      <td>0.000</td>\n",
       "      <td>2,464.314</td>\n",
       "      <td>2.998</td>\n",
       "      <td>2,003.489</td>\n",
       "      <td>1,175.117</td>\n",
       "    </tr>\n",
       "    <tr>\n",
       "      <th>Concordia</th>\n",
       "      <td>0.000</td>\n",
       "      <td>0.017</td>\n",
       "      <td>0.000</td>\n",
       "      <td>692.388</td>\n",
       "      <td>271.859</td>\n",
       "      <td>2,971.820</td>\n",
       "      <td>2,809.955</td>\n",
       "    </tr>\n",
       "    <tr>\n",
       "      <th>Dauphin</th>\n",
       "      <td>0.000</td>\n",
       "      <td>609.193</td>\n",
       "      <td>70.108</td>\n",
       "      <td>706.145</td>\n",
       "      <td>140.255</td>\n",
       "      <td>2,410.380</td>\n",
       "      <td>5,169.242</td>\n",
       "    </tr>\n",
       "    <tr>\n",
       "      <th>Dawson Trail</th>\n",
       "      <td>0.000</td>\n",
       "      <td>214.919</td>\n",
       "      <td>0.000</td>\n",
       "      <td>1,481.179</td>\n",
       "      <td>382.458</td>\n",
       "      <td>1,512.222</td>\n",
       "      <td>4,242.041</td>\n",
       "    </tr>\n",
       "    <tr>\n",
       "      <th>Elmwood</th>\n",
       "      <td>0.017</td>\n",
       "      <td>0.229</td>\n",
       "      <td>0.000</td>\n",
       "      <td>45.696</td>\n",
       "      <td>586.329</td>\n",
       "      <td>3,102.337</td>\n",
       "      <td>3,072.954</td>\n",
       "    </tr>\n",
       "    <tr>\n",
       "      <th>Flin Flon</th>\n",
       "      <td>0.000</td>\n",
       "      <td>68.148</td>\n",
       "      <td>340.255</td>\n",
       "      <td>994.993</td>\n",
       "      <td>0.000</td>\n",
       "      <td>1,469.562</td>\n",
       "      <td>961.110</td>\n",
       "    </tr>\n",
       "    <tr>\n",
       "      <th>Fort Garry</th>\n",
       "      <td>12.041</td>\n",
       "      <td>1,177.813</td>\n",
       "      <td>0.000</td>\n",
       "      <td>1,269.183</td>\n",
       "      <td>26.162</td>\n",
       "      <td>3,387.157</td>\n",
       "      <td>3,557.122</td>\n",
       "    </tr>\n",
       "    <tr>\n",
       "      <th>Fort Richmond</th>\n",
       "      <td>0.000</td>\n",
       "      <td>348.242</td>\n",
       "      <td>68.955</td>\n",
       "      <td>973.869</td>\n",
       "      <td>0.000</td>\n",
       "      <td>2,609.652</td>\n",
       "      <td>3,647.676</td>\n",
       "    </tr>\n",
       "    <tr>\n",
       "      <th>Fort Rouge</th>\n",
       "      <td>30.507</td>\n",
       "      <td>1,492.964</td>\n",
       "      <td>0.000</td>\n",
       "      <td>1,302.809</td>\n",
       "      <td>119.258</td>\n",
       "      <td>3,290.439</td>\n",
       "      <td>2,442.246</td>\n",
       "    </tr>\n",
       "    <tr>\n",
       "      <th>Fort Whyte</th>\n",
       "      <td>0.000</td>\n",
       "      <td>635.307</td>\n",
       "      <td>0.000</td>\n",
       "      <td>1,004.873</td>\n",
       "      <td>111.271</td>\n",
       "      <td>1,383.680</td>\n",
       "      <td>5,694.379</td>\n",
       "    </tr>\n",
       "    <tr>\n",
       "      <th>Interlake-Gimli</th>\n",
       "      <td>0.000</td>\n",
       "      <td>324.852</td>\n",
       "      <td>0.018</td>\n",
       "      <td>1,210.789</td>\n",
       "      <td>70.737</td>\n",
       "      <td>2,687.123</td>\n",
       "      <td>6,646.267</td>\n",
       "    </tr>\n",
       "    <tr>\n",
       "      <th>Keewatinook</th>\n",
       "      <td>0.000</td>\n",
       "      <td>0.390</td>\n",
       "      <td>0.000</td>\n",
       "      <td>944.248</td>\n",
       "      <td>0.077</td>\n",
       "      <td>916.192</td>\n",
       "      <td>387.516</td>\n",
       "    </tr>\n",
       "    <tr>\n",
       "      <th>Kildonan-River East</th>\n",
       "      <td>0.000</td>\n",
       "      <td>171.446</td>\n",
       "      <td>0.000</td>\n",
       "      <td>905.567</td>\n",
       "      <td>104.257</td>\n",
       "      <td>2,956.817</td>\n",
       "      <td>5,544.537</td>\n",
       "    </tr>\n",
       "    <tr>\n",
       "      <th>Kirkfield Park</th>\n",
       "      <td>0.000</td>\n",
       "      <td>847.343</td>\n",
       "      <td>0.000</td>\n",
       "      <td>1,023.440</td>\n",
       "      <td>22.060</td>\n",
       "      <td>3,233.404</td>\n",
       "      <td>5,597.509</td>\n",
       "    </tr>\n",
       "    <tr>\n",
       "      <th>La Verendrye</th>\n",
       "      <td>0.000</td>\n",
       "      <td>257.938</td>\n",
       "      <td>0.000</td>\n",
       "      <td>848.338</td>\n",
       "      <td>0.003</td>\n",
       "      <td>609.193</td>\n",
       "      <td>6,307.313</td>\n",
       "    </tr>\n",
       "    <tr>\n",
       "      <th>Lac du Bonnet</th>\n",
       "      <td>0.000</td>\n",
       "      <td>136.566</td>\n",
       "      <td>0.000</td>\n",
       "      <td>93.558</td>\n",
       "      <td>0.004</td>\n",
       "      <td>1,588.024</td>\n",
       "      <td>6,252.180</td>\n",
       "    </tr>\n",
       "    <tr>\n",
       "      <th>Lagimodiere</th>\n",
       "      <td>0.000</td>\n",
       "      <td>18.620</td>\n",
       "      <td>0.000</td>\n",
       "      <td>1,156.000</td>\n",
       "      <td>0.000</td>\n",
       "      <td>1,826.975</td>\n",
       "      <td>5,294.257</td>\n",
       "    </tr>\n",
       "    <tr>\n",
       "      <th>Lakeside</th>\n",
       "      <td>0.000</td>\n",
       "      <td>0.021</td>\n",
       "      <td>0.000</td>\n",
       "      <td>297.086</td>\n",
       "      <td>0.000</td>\n",
       "      <td>1,345.251</td>\n",
       "      <td>6,577.813</td>\n",
       "    </tr>\n",
       "    <tr>\n",
       "      <th>McPhillips</th>\n",
       "      <td>0.000</td>\n",
       "      <td>362.556</td>\n",
       "      <td>0.000</td>\n",
       "      <td>1,034.531</td>\n",
       "      <td>83.894</td>\n",
       "      <td>2,750.424</td>\n",
       "      <td>3,861.884</td>\n",
       "    </tr>\n",
       "    <tr>\n",
       "      <th>Midland</th>\n",
       "      <td>0.000</td>\n",
       "      <td>390.548</td>\n",
       "      <td>0.000</td>\n",
       "      <td>801.914</td>\n",
       "      <td>0.000</td>\n",
       "      <td>670.632</td>\n",
       "      <td>6,762.174</td>\n",
       "    </tr>\n",
       "    <tr>\n",
       "      <th>Morden-Winkler</th>\n",
       "      <td>0.000</td>\n",
       "      <td>514.522</td>\n",
       "      <td>0.000</td>\n",
       "      <td>209.861</td>\n",
       "      <td>0.000</td>\n",
       "      <td>165.707</td>\n",
       "      <td>4,373.727</td>\n",
       "    </tr>\n",
       "    <tr>\n",
       "      <th>Notre Dame</th>\n",
       "      <td>35.623</td>\n",
       "      <td>368.390</td>\n",
       "      <td>233.331</td>\n",
       "      <td>1,202.765</td>\n",
       "      <td>69.688</td>\n",
       "      <td>2,428.541</td>\n",
       "      <td>1,079.638</td>\n",
       "    </tr>\n",
       "    <tr>\n",
       "      <th>Point Douglas</th>\n",
       "      <td>67.507</td>\n",
       "      <td>281.729</td>\n",
       "      <td>0.000</td>\n",
       "      <td>1,069.736</td>\n",
       "      <td>45.112</td>\n",
       "      <td>2,804.496</td>\n",
       "      <td>838.817</td>\n",
       "    </tr>\n",
       "    <tr>\n",
       "      <th>Portage la Prairie</th>\n",
       "      <td>0.000</td>\n",
       "      <td>0.020</td>\n",
       "      <td>0.000</td>\n",
       "      <td>1,237.508</td>\n",
       "      <td>0.000</td>\n",
       "      <td>696.965</td>\n",
       "      <td>4,634.411</td>\n",
       "    </tr>\n",
       "    <tr>\n",
       "      <th>Radisson</th>\n",
       "      <td>9.289</td>\n",
       "      <td>0.000</td>\n",
       "      <td>0.000</td>\n",
       "      <td>983.599</td>\n",
       "      <td>144.707</td>\n",
       "      <td>2,483.175</td>\n",
       "      <td>4,211.509</td>\n",
       "    </tr>\n",
       "    <tr>\n",
       "      <th>Red River North</th>\n",
       "      <td>0.000</td>\n",
       "      <td>0.171</td>\n",
       "      <td>0.000</td>\n",
       "      <td>1,109.055</td>\n",
       "      <td>0.000</td>\n",
       "      <td>1,994.361</td>\n",
       "      <td>6,091.261</td>\n",
       "    </tr>\n",
       "    <tr>\n",
       "      <th>Riding Mountain</th>\n",
       "      <td>0.000</td>\n",
       "      <td>547.637</td>\n",
       "      <td>0.000</td>\n",
       "      <td>669.734</td>\n",
       "      <td>398.426</td>\n",
       "      <td>661.263</td>\n",
       "      <td>6,212.504</td>\n",
       "    </tr>\n",
       "    <tr>\n",
       "      <th>Riel</th>\n",
       "      <td>0.000</td>\n",
       "      <td>64.642</td>\n",
       "      <td>0.000</td>\n",
       "      <td>1,757.460</td>\n",
       "      <td>0.000</td>\n",
       "      <td>2,638.052</td>\n",
       "      <td>4,617.895</td>\n",
       "    </tr>\n",
       "    <tr>\n",
       "      <th>River Heights</th>\n",
       "      <td>4.284</td>\n",
       "      <td>872.837</td>\n",
       "      <td>0.000</td>\n",
       "      <td>4,988.199</td>\n",
       "      <td>29.282</td>\n",
       "      <td>1,259.749</td>\n",
       "      <td>3,651.694</td>\n",
       "    </tr>\n",
       "    <tr>\n",
       "      <th>Roblin</th>\n",
       "      <td>0.000</td>\n",
       "      <td>1,085.118</td>\n",
       "      <td>0.000</td>\n",
       "      <td>1,321.810</td>\n",
       "      <td>0.000</td>\n",
       "      <td>1,314.576</td>\n",
       "      <td>6,151.736</td>\n",
       "    </tr>\n",
       "    <tr>\n",
       "      <th>Rossmere</th>\n",
       "      <td>0.000</td>\n",
       "      <td>0.000</td>\n",
       "      <td>0.000</td>\n",
       "      <td>701.370</td>\n",
       "      <td>223.936</td>\n",
       "      <td>2,625.734</td>\n",
       "      <td>5,031.663</td>\n",
       "    </tr>\n",
       "    <tr>\n",
       "      <th>Seine River</th>\n",
       "      <td>0.000</td>\n",
       "      <td>0.002</td>\n",
       "      <td>43.640</td>\n",
       "      <td>1,891.997</td>\n",
       "      <td>0.000</td>\n",
       "      <td>2,674.462</td>\n",
       "      <td>5,208.208</td>\n",
       "    </tr>\n",
       "    <tr>\n",
       "      <th>Selkirk</th>\n",
       "      <td>0.000</td>\n",
       "      <td>517.948</td>\n",
       "      <td>0.000</td>\n",
       "      <td>646.680</td>\n",
       "      <td>168.186</td>\n",
       "      <td>2,211.881</td>\n",
       "      <td>4,561.359</td>\n",
       "    </tr>\n",
       "    <tr>\n",
       "      <th>Southdale</th>\n",
       "      <td>0.000</td>\n",
       "      <td>69.108</td>\n",
       "      <td>0.000</td>\n",
       "      <td>1,528.310</td>\n",
       "      <td>0.000</td>\n",
       "      <td>2,808.838</td>\n",
       "      <td>4,688.548</td>\n",
       "    </tr>\n",
       "    <tr>\n",
       "      <th>Springfield-Ritchot</th>\n",
       "      <td>0.000</td>\n",
       "      <td>95.390</td>\n",
       "      <td>0.000</td>\n",
       "      <td>1,251.591</td>\n",
       "      <td>182.535</td>\n",
       "      <td>1,287.834</td>\n",
       "      <td>5,647.938</td>\n",
       "    </tr>\n",
       "    <tr>\n",
       "      <th>Spruce Woods</th>\n",
       "      <td>0.000</td>\n",
       "      <td>138.998</td>\n",
       "      <td>0.000</td>\n",
       "      <td>596.113</td>\n",
       "      <td>484.052</td>\n",
       "      <td>1,099.260</td>\n",
       "      <td>5,775.421</td>\n",
       "    </tr>\n",
       "    <tr>\n",
       "      <th>St. Boniface</th>\n",
       "      <td>0.000</td>\n",
       "      <td>1,127.624</td>\n",
       "      <td>0.000</td>\n",
       "      <td>1,763.955</td>\n",
       "      <td>0.001</td>\n",
       "      <td>3,933.492</td>\n",
       "      <td>2,535.163</td>\n",
       "    </tr>\n",
       "    <tr>\n",
       "      <th>St. James</th>\n",
       "      <td>6.168</td>\n",
       "      <td>771.490</td>\n",
       "      <td>111.729</td>\n",
       "      <td>1,060.190</td>\n",
       "      <td>121.257</td>\n",
       "      <td>2,660.860</td>\n",
       "      <td>2,958.940</td>\n",
       "    </tr>\n",
       "    <tr>\n",
       "      <th>St. Johns</th>\n",
       "      <td>1.461</td>\n",
       "      <td>661.304</td>\n",
       "      <td>0.000</td>\n",
       "      <td>1,438.980</td>\n",
       "      <td>0.849</td>\n",
       "      <td>2,346.731</td>\n",
       "      <td>1,836.906</td>\n",
       "    </tr>\n",
       "    <tr>\n",
       "      <th>St. Vital</th>\n",
       "      <td>0.000</td>\n",
       "      <td>559.302</td>\n",
       "      <td>0.000</td>\n",
       "      <td>1,463.743</td>\n",
       "      <td>0.000</td>\n",
       "      <td>3,024.961</td>\n",
       "      <td>3,776.515</td>\n",
       "    </tr>\n",
       "    <tr>\n",
       "      <th>Steinbach</th>\n",
       "      <td>0.000</td>\n",
       "      <td>0.014</td>\n",
       "      <td>0.000</td>\n",
       "      <td>333.797</td>\n",
       "      <td>0.002</td>\n",
       "      <td>279.366</td>\n",
       "      <td>4,763.630</td>\n",
       "    </tr>\n",
       "    <tr>\n",
       "      <th>Swan River</th>\n",
       "      <td>0.000</td>\n",
       "      <td>491.555</td>\n",
       "      <td>0.000</td>\n",
       "      <td>670.128</td>\n",
       "      <td>27.745</td>\n",
       "      <td>1,952.397</td>\n",
       "      <td>5,928.430</td>\n",
       "    </tr>\n",
       "    <tr>\n",
       "      <th>The Maples</th>\n",
       "      <td>0.228</td>\n",
       "      <td>359.853</td>\n",
       "      <td>0.000</td>\n",
       "      <td>1,177.875</td>\n",
       "      <td>0.000</td>\n",
       "      <td>1,873.794</td>\n",
       "      <td>1,747.442</td>\n",
       "    </tr>\n",
       "    <tr>\n",
       "      <th>The Pas-Kameesak</th>\n",
       "      <td>0.000</td>\n",
       "      <td>155.821</td>\n",
       "      <td>0.000</td>\n",
       "      <td>904.414</td>\n",
       "      <td>0.000</td>\n",
       "      <td>1,817.394</td>\n",
       "      <td>1,804.328</td>\n",
       "    </tr>\n",
       "    <tr>\n",
       "      <th>Thompson</th>\n",
       "      <td>0.000</td>\n",
       "      <td>0.000</td>\n",
       "      <td>4.745</td>\n",
       "      <td>876.841</td>\n",
       "      <td>0.000</td>\n",
       "      <td>1,610.641</td>\n",
       "      <td>1,697.332</td>\n",
       "    </tr>\n",
       "    <tr>\n",
       "      <th>Transcona</th>\n",
       "      <td>58.711</td>\n",
       "      <td>0.000</td>\n",
       "      <td>0.000</td>\n",
       "      <td>1,411.205</td>\n",
       "      <td>207.169</td>\n",
       "      <td>2,140.065</td>\n",
       "      <td>3,782.390</td>\n",
       "    </tr>\n",
       "    <tr>\n",
       "      <th>Turtle Mountain</th>\n",
       "      <td>0.000</td>\n",
       "      <td>305.688</td>\n",
       "      <td>0.000</td>\n",
       "      <td>391.634</td>\n",
       "      <td>662.891</td>\n",
       "      <td>775.349</td>\n",
       "      <td>6,804.816</td>\n",
       "    </tr>\n",
       "    <tr>\n",
       "      <th>Tuxedo</th>\n",
       "      <td>0.000</td>\n",
       "      <td>1,321.349</td>\n",
       "      <td>0.000</td>\n",
       "      <td>1,754.808</td>\n",
       "      <td>0.050</td>\n",
       "      <td>1,354.328</td>\n",
       "      <td>5,022.956</td>\n",
       "    </tr>\n",
       "    <tr>\n",
       "      <th>Tyndall Park</th>\n",
       "      <td>4.366</td>\n",
       "      <td>360.419</td>\n",
       "      <td>0.000</td>\n",
       "      <td>1,733.264</td>\n",
       "      <td>0.000</td>\n",
       "      <td>2,005.254</td>\n",
       "      <td>1,421.028</td>\n",
       "    </tr>\n",
       "    <tr>\n",
       "      <th>Union Station</th>\n",
       "      <td>37.741</td>\n",
       "      <td>695.451</td>\n",
       "      <td>21.151</td>\n",
       "      <td>1,117.714</td>\n",
       "      <td>114.889</td>\n",
       "      <td>1,955.561</td>\n",
       "      <td>960.360</td>\n",
       "    </tr>\n",
       "    <tr>\n",
       "      <th>Waverley</th>\n",
       "      <td>0.000</td>\n",
       "      <td>135.195</td>\n",
       "      <td>61.405</td>\n",
       "      <td>736.479</td>\n",
       "      <td>15.723</td>\n",
       "      <td>1,476.184</td>\n",
       "      <td>2,952.915</td>\n",
       "    </tr>\n",
       "    <tr>\n",
       "      <th>Wolseley</th>\n",
       "      <td>11.342</td>\n",
       "      <td>2,422.911</td>\n",
       "      <td>222.790</td>\n",
       "      <td>744.305</td>\n",
       "      <td>79.249</td>\n",
       "      <td>3,702.447</td>\n",
       "      <td>1,106.111</td>\n",
       "    </tr>\n",
       "  </tbody>\n",
       "</table>\n",
       "</div>"
      ],
      "text/plain": [
       "                     cpc-m_new   gpm_new  ind_new   lib_new  mp_new   ndp_new  \\\n",
       "ed_name_new                                                                     \n",
       "Agassiz                  0.000   381.208  839.874    67.031  19.504   453.474   \n",
       "Assiniboia               0.000   669.706    0.000 1,697.377   0.000 2,578.034   \n",
       "Borderland               0.000   152.456    0.000 1,144.181   0.000   289.587   \n",
       "Brandon East             0.000     0.000    0.000   765.497   0.000 2,302.017   \n",
       "Brandon West             0.000     0.000    0.000   516.871   0.126 1,625.396   \n",
       "Burrows                 25.714   253.029    0.000 2,464.314   2.998 2,003.489   \n",
       "Concordia                0.000     0.017    0.000   692.388 271.859 2,971.820   \n",
       "Dauphin                  0.000   609.193   70.108   706.145 140.255 2,410.380   \n",
       "Dawson Trail             0.000   214.919    0.000 1,481.179 382.458 1,512.222   \n",
       "Elmwood                  0.017     0.229    0.000    45.696 586.329 3,102.337   \n",
       "Flin Flon                0.000    68.148  340.255   994.993   0.000 1,469.562   \n",
       "Fort Garry              12.041 1,177.813    0.000 1,269.183  26.162 3,387.157   \n",
       "Fort Richmond            0.000   348.242   68.955   973.869   0.000 2,609.652   \n",
       "Fort Rouge              30.507 1,492.964    0.000 1,302.809 119.258 3,290.439   \n",
       "Fort Whyte               0.000   635.307    0.000 1,004.873 111.271 1,383.680   \n",
       "Interlake-Gimli          0.000   324.852    0.018 1,210.789  70.737 2,687.123   \n",
       "Keewatinook              0.000     0.390    0.000   944.248   0.077   916.192   \n",
       "Kildonan-River East      0.000   171.446    0.000   905.567 104.257 2,956.817   \n",
       "Kirkfield Park           0.000   847.343    0.000 1,023.440  22.060 3,233.404   \n",
       "La Verendrye             0.000   257.938    0.000   848.338   0.003   609.193   \n",
       "Lac du Bonnet            0.000   136.566    0.000    93.558   0.004 1,588.024   \n",
       "Lagimodiere              0.000    18.620    0.000 1,156.000   0.000 1,826.975   \n",
       "Lakeside                 0.000     0.021    0.000   297.086   0.000 1,345.251   \n",
       "McPhillips               0.000   362.556    0.000 1,034.531  83.894 2,750.424   \n",
       "Midland                  0.000   390.548    0.000   801.914   0.000   670.632   \n",
       "Morden-Winkler           0.000   514.522    0.000   209.861   0.000   165.707   \n",
       "Notre Dame              35.623   368.390  233.331 1,202.765  69.688 2,428.541   \n",
       "Point Douglas           67.507   281.729    0.000 1,069.736  45.112 2,804.496   \n",
       "Portage la Prairie       0.000     0.020    0.000 1,237.508   0.000   696.965   \n",
       "Radisson                 9.289     0.000    0.000   983.599 144.707 2,483.175   \n",
       "Red River North          0.000     0.171    0.000 1,109.055   0.000 1,994.361   \n",
       "Riding Mountain          0.000   547.637    0.000   669.734 398.426   661.263   \n",
       "Riel                     0.000    64.642    0.000 1,757.460   0.000 2,638.052   \n",
       "River Heights            4.284   872.837    0.000 4,988.199  29.282 1,259.749   \n",
       "Roblin                   0.000 1,085.118    0.000 1,321.810   0.000 1,314.576   \n",
       "Rossmere                 0.000     0.000    0.000   701.370 223.936 2,625.734   \n",
       "Seine River              0.000     0.002   43.640 1,891.997   0.000 2,674.462   \n",
       "Selkirk                  0.000   517.948    0.000   646.680 168.186 2,211.881   \n",
       "Southdale                0.000    69.108    0.000 1,528.310   0.000 2,808.838   \n",
       "Springfield-Ritchot      0.000    95.390    0.000 1,251.591 182.535 1,287.834   \n",
       "Spruce Woods             0.000   138.998    0.000   596.113 484.052 1,099.260   \n",
       "St. Boniface             0.000 1,127.624    0.000 1,763.955   0.001 3,933.492   \n",
       "St. James                6.168   771.490  111.729 1,060.190 121.257 2,660.860   \n",
       "St. Johns                1.461   661.304    0.000 1,438.980   0.849 2,346.731   \n",
       "St. Vital                0.000   559.302    0.000 1,463.743   0.000 3,024.961   \n",
       "Steinbach                0.000     0.014    0.000   333.797   0.002   279.366   \n",
       "Swan River               0.000   491.555    0.000   670.128  27.745 1,952.397   \n",
       "The Maples               0.228   359.853    0.000 1,177.875   0.000 1,873.794   \n",
       "The Pas-Kameesak         0.000   155.821    0.000   904.414   0.000 1,817.394   \n",
       "Thompson                 0.000     0.000    4.745   876.841   0.000 1,610.641   \n",
       "Transcona               58.711     0.000    0.000 1,411.205 207.169 2,140.065   \n",
       "Turtle Mountain          0.000   305.688    0.000   391.634 662.891   775.349   \n",
       "Tuxedo                   0.000 1,321.349    0.000 1,754.808   0.050 1,354.328   \n",
       "Tyndall Park             4.366   360.419    0.000 1,733.264   0.000 2,005.254   \n",
       "Union Station           37.741   695.451   21.151 1,117.714 114.889 1,955.561   \n",
       "Waverley                 0.000   135.195   61.405   736.479  15.723 1,476.184   \n",
       "Wolseley                11.342 2,422.911  222.790   744.305  79.249 3,702.447   \n",
       "\n",
       "                       pc_new  \n",
       "ed_name_new                    \n",
       "Agassiz             5,368.396  \n",
       "Assiniboia          4,065.074  \n",
       "Borderland          6,077.819  \n",
       "Brandon East        3,259.293  \n",
       "Brandon West        4,586.527  \n",
       "Burrows             1,175.117  \n",
       "Concordia           2,809.955  \n",
       "Dauphin             5,169.242  \n",
       "Dawson Trail        4,242.041  \n",
       "Elmwood             3,072.954  \n",
       "Flin Flon             961.110  \n",
       "Fort Garry          3,557.122  \n",
       "Fort Richmond       3,647.676  \n",
       "Fort Rouge          2,442.246  \n",
       "Fort Whyte          5,694.379  \n",
       "Interlake-Gimli     6,646.267  \n",
       "Keewatinook           387.516  \n",
       "Kildonan-River East 5,544.537  \n",
       "Kirkfield Park      5,597.509  \n",
       "La Verendrye        6,307.313  \n",
       "Lac du Bonnet       6,252.180  \n",
       "Lagimodiere         5,294.257  \n",
       "Lakeside            6,577.813  \n",
       "McPhillips          3,861.884  \n",
       "Midland             6,762.174  \n",
       "Morden-Winkler      4,373.727  \n",
       "Notre Dame          1,079.638  \n",
       "Point Douglas         838.817  \n",
       "Portage la Prairie  4,634.411  \n",
       "Radisson            4,211.509  \n",
       "Red River North     6,091.261  \n",
       "Riding Mountain     6,212.504  \n",
       "Riel                4,617.895  \n",
       "River Heights       3,651.694  \n",
       "Roblin              6,151.736  \n",
       "Rossmere            5,031.663  \n",
       "Seine River         5,208.208  \n",
       "Selkirk             4,561.359  \n",
       "Southdale           4,688.548  \n",
       "Springfield-Ritchot 5,647.938  \n",
       "Spruce Woods        5,775.421  \n",
       "St. Boniface        2,535.163  \n",
       "St. James           2,958.940  \n",
       "St. Johns           1,836.906  \n",
       "St. Vital           3,776.515  \n",
       "Steinbach           4,763.630  \n",
       "Swan River          5,928.430  \n",
       "The Maples          1,747.442  \n",
       "The Pas-Kameesak    1,804.328  \n",
       "Thompson            1,697.332  \n",
       "Transcona           3,782.390  \n",
       "Turtle Mountain     6,804.816  \n",
       "Tuxedo              5,022.956  \n",
       "Tyndall Park        1,421.028  \n",
       "Union Station         960.360  \n",
       "Waverley            2,952.915  \n",
       "Wolseley            1,106.111  "
      ]
     },
     "execution_count": 80,
     "metadata": {},
     "output_type": "execute_result"
    }
   ],
   "source": [
    "hypothetical2016_results"
   ]
  },
  {
   "cell_type": "markdown",
   "metadata": {},
   "source": [
    "## Conclusion: Who benefits most?\n",
    "For the 2016 elections....\n",
    "> Progressive Conservatives gain 1 seat (from 40: to 41);<br>\n",
    "> New Democratic Party loses 1 seat (from 14: to 13);<br>\n",
    "> Liberals Party maintains seats (from 3: to 3)<br>"
   ]
  }
 ],
 "metadata": {
  "kernelspec": {
   "display_name": "Python 3",
   "language": "python",
   "name": "python3"
  },
  "language_info": {
   "codemirror_mode": {
    "name": "ipython",
    "version": 3
   },
   "file_extension": ".py",
   "mimetype": "text/x-python",
   "name": "python",
   "nbconvert_exporter": "python",
   "pygments_lexer": "ipython3",
   "version": "3.6.7"
  }
 },
 "nbformat": 4,
 "nbformat_minor": 2
}
